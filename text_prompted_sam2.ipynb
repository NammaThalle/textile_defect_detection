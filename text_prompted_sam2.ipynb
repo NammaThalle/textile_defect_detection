{
 "cells": [
  {
   "cell_type": "code",
   "execution_count": 1,
   "metadata": {},
   "outputs": [
    {
     "name": "stdout",
     "output_type": "stream",
     "text": [
      "Collecting autodistill-grounded-sam-2\n",
      "  Using cached autodistill_grounded_sam_2-0.1.0-py3-none-any.whl.metadata (1.1 kB)\n",
      "Requirement already satisfied: torch in /home/nammathalle/work/textile_defect_detection/tddvenv/lib/python3.10/site-packages (from autodistill-grounded-sam-2) (2.4.0)\n",
      "Collecting autodistill (from autodistill-grounded-sam-2)\n",
      "  Using cached autodistill-0.1.28-py3-none-any.whl.metadata (22 kB)\n",
      "Requirement already satisfied: numpy>=1.20.0 in /home/nammathalle/work/textile_defect_detection/tddvenv/lib/python3.10/site-packages (from autodistill-grounded-sam-2) (2.0.1)\n",
      "Collecting opencv-python>=4.6.0 (from autodistill-grounded-sam-2)\n",
      "  Using cached opencv_python-4.10.0.84-cp37-abi3-manylinux_2_17_x86_64.manylinux2014_x86_64.whl.metadata (20 kB)\n",
      "Requirement already satisfied: supervision in /home/nammathalle/work/textile_defect_detection/tddvenv/lib/python3.10/site-packages (from autodistill-grounded-sam-2) (0.22.0)\n",
      "Collecting roboflow (from autodistill-grounded-sam-2)\n",
      "  Downloading roboflow-1.1.44-py3-none-any.whl.metadata (9.7 kB)\n",
      "Collecting autodistill-florence-2 (from autodistill-grounded-sam-2)\n",
      "  Using cached autodistill_florence_2-0.1.1-py3-none-any.whl.metadata (3.7 kB)\n",
      "Requirement already satisfied: tqdm in /home/nammathalle/work/textile_defect_detection/tddvenv/lib/python3.10/site-packages (from autodistill->autodistill-grounded-sam-2) (4.66.5)\n",
      "Requirement already satisfied: Pillow>=7.1.2 in /home/nammathalle/work/textile_defect_detection/tddvenv/lib/python3.10/site-packages (from autodistill->autodistill-grounded-sam-2) (10.4.0)\n",
      "Requirement already satisfied: PyYAML>=5.3.1 in /home/nammathalle/work/textile_defect_detection/tddvenv/lib/python3.10/site-packages (from autodistill->autodistill-grounded-sam-2) (6.0.2)\n",
      "Collecting click (from autodistill->autodistill-grounded-sam-2)\n",
      "  Using cached click-8.1.7-py3-none-any.whl.metadata (3.0 kB)\n",
      "Collecting transformers (from autodistill-florence-2->autodistill-grounded-sam-2)\n",
      "  Using cached transformers-4.44.2-py3-none-any.whl.metadata (43 kB)\n",
      "Collecting einops (from autodistill-florence-2->autodistill-grounded-sam-2)\n",
      "  Using cached einops-0.8.0-py3-none-any.whl.metadata (12 kB)\n",
      "Collecting flash-attn (from autodistill-florence-2->autodistill-grounded-sam-2)\n",
      "  Using cached flash_attn-2.6.3.tar.gz (2.6 MB)\n",
      "  Installing build dependencies ... \u001b[?25ldone\n",
      "\u001b[?25h  Getting requirements to build wheel ... \u001b[?25lerror\n",
      "  \u001b[1;31merror\u001b[0m: \u001b[1msubprocess-exited-with-error\u001b[0m\n",
      "  \n",
      "  \u001b[31m×\u001b[0m \u001b[32mGetting requirements to build wheel\u001b[0m did not run successfully.\n",
      "  \u001b[31m│\u001b[0m exit code: \u001b[1;36m1\u001b[0m\n",
      "  \u001b[31m╰─>\u001b[0m \u001b[31m[17 lines of output]\u001b[0m\n",
      "  \u001b[31m   \u001b[0m Traceback (most recent call last):\n",
      "  \u001b[31m   \u001b[0m   File \"/home/nammathalle/work/textile_defect_detection/tddvenv/lib/python3.10/site-packages/pip/_vendor/pyproject_hooks/_in_process/_in_process.py\", line 353, in <module>\n",
      "  \u001b[31m   \u001b[0m     main()\n",
      "  \u001b[31m   \u001b[0m   File \"/home/nammathalle/work/textile_defect_detection/tddvenv/lib/python3.10/site-packages/pip/_vendor/pyproject_hooks/_in_process/_in_process.py\", line 335, in main\n",
      "  \u001b[31m   \u001b[0m     json_out['return_val'] = hook(**hook_input['kwargs'])\n",
      "  \u001b[31m   \u001b[0m   File \"/home/nammathalle/work/textile_defect_detection/tddvenv/lib/python3.10/site-packages/pip/_vendor/pyproject_hooks/_in_process/_in_process.py\", line 118, in get_requires_for_build_wheel\n",
      "  \u001b[31m   \u001b[0m     return hook(config_settings)\n",
      "  \u001b[31m   \u001b[0m   File \"/tmp/pip-build-env-d64lr_86/overlay/lib/python3.10/site-packages/setuptools/build_meta.py\", line 332, in get_requires_for_build_wheel\n",
      "  \u001b[31m   \u001b[0m     return self._get_build_requires(config_settings, requirements=[])\n",
      "  \u001b[31m   \u001b[0m   File \"/tmp/pip-build-env-d64lr_86/overlay/lib/python3.10/site-packages/setuptools/build_meta.py\", line 302, in _get_build_requires\n",
      "  \u001b[31m   \u001b[0m     self.run_setup()\n",
      "  \u001b[31m   \u001b[0m   File \"/tmp/pip-build-env-d64lr_86/overlay/lib/python3.10/site-packages/setuptools/build_meta.py\", line 503, in run_setup\n",
      "  \u001b[31m   \u001b[0m     super().run_setup(setup_script=setup_script)\n",
      "  \u001b[31m   \u001b[0m   File \"/tmp/pip-build-env-d64lr_86/overlay/lib/python3.10/site-packages/setuptools/build_meta.py\", line 318, in run_setup\n",
      "  \u001b[31m   \u001b[0m     exec(code, locals())\n",
      "  \u001b[31m   \u001b[0m   File \"<string>\", line 21, in <module>\n",
      "  \u001b[31m   \u001b[0m ModuleNotFoundError: No module named 'torch'\n",
      "  \u001b[31m   \u001b[0m \u001b[31m[end of output]\u001b[0m\n",
      "  \n",
      "  \u001b[1;35mnote\u001b[0m: This error originates from a subprocess, and is likely not a problem with pip.\n",
      "\u001b[?25h\u001b[1;31merror\u001b[0m: \u001b[1msubprocess-exited-with-error\u001b[0m\n",
      "\n",
      "\u001b[31m×\u001b[0m \u001b[32mGetting requirements to build wheel\u001b[0m did not run successfully.\n",
      "\u001b[31m│\u001b[0m exit code: \u001b[1;36m1\u001b[0m\n",
      "\u001b[31m╰─>\u001b[0m See above for output.\n",
      "\n",
      "\u001b[1;35mnote\u001b[0m: This error originates from a subprocess, and is likely not a problem with pip.\n"
     ]
    }
   ],
   "source": [
    "!pip install autodistill-grounded-sam-2"
   ]
  },
  {
   "cell_type": "code",
   "execution_count": null,
   "metadata": {},
   "outputs": [],
   "source": [
    "from autodistill_grounded_sam_2 import GroundedSAM2\n",
    "from autodistill.detection import CaptionOntology\n",
    "from autodistill.utils import plot\n",
    "import cv2\n",
    "import supervision as sv\n",
    "\n",
    "# define an ontology to map class names to our Grounded SAM 2 prompt\n",
    "# the ontology dictionary has the format {caption: class}\n",
    "# where caption is the prompt sent to the base model, and class is the label that will\n",
    "# be saved for that caption in the generated annotations\n",
    "# then, load the model\n",
    "base_model = GroundedSAM2(\n",
    "\tontology=CaptionOntology(\n",
    "    \t{\n",
    "        \t\"dog\": \"dog\"\n",
    "    \t}\n",
    ")\n",
    ")"
   ]
  }
 ],
 "metadata": {
  "kernelspec": {
   "display_name": "tddvenv",
   "language": "python",
   "name": "python3"
  },
  "language_info": {
   "codemirror_mode": {
    "name": "ipython",
    "version": 3
   },
   "file_extension": ".py",
   "mimetype": "text/x-python",
   "name": "python",
   "nbconvert_exporter": "python",
   "pygments_lexer": "ipython3",
   "version": "3.10.12"
  }
 },
 "nbformat": 4,
 "nbformat_minor": 2
}
